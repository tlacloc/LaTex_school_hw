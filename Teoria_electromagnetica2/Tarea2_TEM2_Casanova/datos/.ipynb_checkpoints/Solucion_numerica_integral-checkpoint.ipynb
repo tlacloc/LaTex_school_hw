{
 "cells": [
  {
   "cell_type": "markdown",
   "metadata": {},
   "source": [
    "# Instrucciones\n",
    "El objetivo de este ejercicio es resolver de manera numérica la siguiente integral\n",
    "\n",
    "\\\\[\\vec{F}_{C'\\rightarrow C}= \\frac{\\mu_0}{4\\pi}\\int_0^{2\\pi}\\int_0^{2\\pi} a \\left(-\\sin\\varphi\\hat{i} + a\\cos\\varphi\\hat{j}\\right)\\text{d}\\varphi' \\times \\left[ a \\left(-\\sin\\varphi'\\hat{i} + a\\cos\\varphi'\\hat{j}\\right)\\text{d}\\varphi'\\times \\frac{(\\vec{r} - \\vec{r}')}{|\\vec{r} - \\vec{r}'|^3}\\right]\\\\]\n",
    "\n",
    "Donde $\\vec{r} - \\vec{r'}$ esta dado por\n",
    "\n",
    "\\\\[\\vec{r} - \\vec{r'}=a(\\cos\\varphi-\\cos\\varphi')\\hat{i} + a(\\sin\\varphi-\\sin\\varphi')\\hat{j} + d\\hat{k}\\\\]\n",
    "\n",
    "Y entonces $|\\vec{r} - \\vec{r}'|$ queda de la siguiente forma\n",
    "\n",
    "\\\\[|\\vec{r} - \\vec{r}'| = \\sqrt{a^2(\\cos\\varphi-\\cos\\varphi')^2 + a^2(\\sin\\varphi-\\sin\\varphi')^2 + d^2}\\\\]\n",
    "\n",
    "Dicha integral se trabajo con el fin de hacerla más fácil expresar en el programa, de modo que se separó en tres integrales, las cuales son:\n",
    "\n",
    "\\\\[A_1 = \\frac{\\mu_0a^2}{4\\pi}\\int_0^{2\\pi}\\int_0^{2\\pi}\\frac{ - a\\cos\\varphi\\left[\\cos{(\\varphi-\\varphi')}-1\\right]\\hat{i} }{\\left(a^2(\\cos\\varphi-\\cos\\varphi')^2 + a^2(\\sin\\varphi-\\sin\\varphi')^2 + d^2\\right)^{3/2}}\\text{d}{\\varphi}\\text{d}{\\varphi'}\\\\]\n",
    "\n",
    "\\\\[A_2 = \\frac{\\mu_0a^2}{4\\pi}\\int_0^{2\\pi}\\int_0^{2\\pi}\\frac{ - a\\sin\\varphi\\left[\\cos{(\\varphi-\\varphi')}-1\\right]\\hat{j} }{\\left(a^2(\\cos\\varphi-\\cos\\varphi')^2 + a^2(\\sin\\varphi-\\sin\\varphi')^2 + d^2\\right)^{3/2}}\\text{d}{\\varphi}\\text{d}{\\varphi'}\\\\]\n",
    "\n",
    "\\\\[A_3 = \\frac{\\mu_0a^2}{4\\pi}\\int_0^{2\\pi}\\int_0^{2\\pi}\\frac{ - d\\cos{(\\varphi - \\varphi')}\\hat{k}  }{\\left(a^2(\\cos\\varphi-\\cos\\varphi')^2 + a^2(\\sin\\varphi-\\sin\\varphi')^2 + d^2\\right)^{3/2}}\\text{d}{\\varphi}\\text{d}{\\varphi'}\\\\]"
   ]
  },
  {
   "cell_type": "markdown",
   "metadata": {},
   "source": [
    "# Cargando librerías"
   ]
  },
  {
   "cell_type": "code",
   "execution_count": 32,
   "metadata": {},
   "outputs": [],
   "source": [
    "from math import cos, exp, pi, sin\n",
    "from scipy import integrate"
   ]
  },
  {
   "cell_type": "markdown",
   "metadata": {},
   "source": [
    "# Definiendo la función"
   ]
  },
  {
   "cell_type": "code",
   "execution_count": 36,
   "metadata": {},
   "outputs": [],
   "source": [
    "def A1(x, y):\n",
    "    return (1 * cos(x)(cos(x-y)-1))/(((1**2)*(cos(x)-cos(y))**2 + (1**2)*(sin(x)-sin(y))**2 + 2^2)**(3/2))"
   ]
  },
  {
   "cell_type": "code",
   "execution_count": 24,
   "metadata": {},
   "outputs": [],
   "source": [
    "def A2(x, y):\n",
    "    return -(a * sin(x)(cos(x-y)-1))/(((a**2)*(cos(x)-cos(y))**2 + (a**2)*(sin(x)-sin(y))**2 + d^2)**(3/2))"
   ]
  },
  {
   "cell_type": "code",
   "execution_count": 25,
   "metadata": {},
   "outputs": [],
   "source": [
    "def A3(x, y):\n",
    "    return -(d*cos(x-y))/(((a**2)*(cos(x)-cos(y))**2 + (a**2)*(sin(x)-sin(y))**2 + d^2)**(3/2))"
   ]
  },
  {
   "cell_type": "markdown",
   "metadata": {},
   "source": [
    "# Definiendo límites"
   ]
  },
  {
   "cell_type": "code",
   "execution_count": 29,
   "metadata": {},
   "outputs": [],
   "source": [
    "def bounds_x():\n",
    "    return [0, 2*pi]"
   ]
  },
  {
   "cell_type": "code",
   "execution_count": 30,
   "metadata": {},
   "outputs": [],
   "source": [
    "def bounds_y():\n",
    "    return [0, 2*pi]"
   ]
  },
  {
   "cell_type": "markdown",
   "metadata": {},
   "source": [
    "# Resultado"
   ]
  },
  {
   "cell_type": "code",
   "execution_count": 42,
   "metadata": {},
   "outputs": [
    {
     "ename": "TypeError",
     "evalue": "object of type 'int' has no len()",
     "output_type": "error",
     "traceback": [
      "\u001b[0;31m---------------------------------------------------------------------------\u001b[0m",
      "\u001b[0;31mTypeError\u001b[0m                                 Traceback (most recent call last)",
      "\u001b[0;32m<ipython-input-42-492dcd9b54b3>\u001b[0m in \u001b[0;36m<module>\u001b[0;34m\u001b[0m\n\u001b[0;32m----> 1\u001b[0;31m \u001b[0mintegrate\u001b[0m\u001b[0;34m.\u001b[0m\u001b[0mnquad\u001b[0m\u001b[0;34m(\u001b[0m\u001b[0mA1\u001b[0m\u001b[0;34m,\u001b[0m \u001b[0;36m0\u001b[0m\u001b[0;34m,\u001b[0m \u001b[0;36m2\u001b[0m\u001b[0;34m*\u001b[0m\u001b[0mpi\u001b[0m\u001b[0;34m,\u001b[0m \u001b[0;36m0\u001b[0m\u001b[0;34m,\u001b[0m \u001b[0;36m2\u001b[0m\u001b[0;34m*\u001b[0m\u001b[0mpi\u001b[0m\u001b[0;34m)\u001b[0m\u001b[0;34m\u001b[0m\u001b[0;34m\u001b[0m\u001b[0m\n\u001b[0m",
      "\u001b[0;32m/usr/local/Cellar/jupyterlab/2.2.8/libexec/lib/python3.8/site-packages/scipy/integrate/quadpack.py\u001b[0m in \u001b[0;36mnquad\u001b[0;34m(func, ranges, args, opts, full_output)\u001b[0m\n\u001b[1;32m    813\u001b[0m \u001b[0;34m\u001b[0m\u001b[0m\n\u001b[1;32m    814\u001b[0m     \"\"\"\n\u001b[0;32m--> 815\u001b[0;31m     \u001b[0mdepth\u001b[0m \u001b[0;34m=\u001b[0m \u001b[0mlen\u001b[0m\u001b[0;34m(\u001b[0m\u001b[0mranges\u001b[0m\u001b[0;34m)\u001b[0m\u001b[0;34m\u001b[0m\u001b[0;34m\u001b[0m\u001b[0m\n\u001b[0m\u001b[1;32m    816\u001b[0m     \u001b[0mranges\u001b[0m \u001b[0;34m=\u001b[0m \u001b[0;34m[\u001b[0m\u001b[0mrng\u001b[0m \u001b[0;32mif\u001b[0m \u001b[0mcallable\u001b[0m\u001b[0;34m(\u001b[0m\u001b[0mrng\u001b[0m\u001b[0;34m)\u001b[0m \u001b[0;32melse\u001b[0m \u001b[0m_RangeFunc\u001b[0m\u001b[0;34m(\u001b[0m\u001b[0mrng\u001b[0m\u001b[0;34m)\u001b[0m \u001b[0;32mfor\u001b[0m \u001b[0mrng\u001b[0m \u001b[0;32min\u001b[0m \u001b[0mranges\u001b[0m\u001b[0;34m]\u001b[0m\u001b[0;34m\u001b[0m\u001b[0;34m\u001b[0m\u001b[0m\n\u001b[1;32m    817\u001b[0m     \u001b[0;32mif\u001b[0m \u001b[0margs\u001b[0m \u001b[0;32mis\u001b[0m \u001b[0;32mNone\u001b[0m\u001b[0;34m:\u001b[0m\u001b[0;34m\u001b[0m\u001b[0;34m\u001b[0m\u001b[0m\n",
      "\u001b[0;31mTypeError\u001b[0m: object of type 'int' has no len()"
     ]
    }
   ],
   "source": [
    "integrate.nquad(A1, 0, 2*pi, 0, 2*pi)"
   ]
  },
  {
   "cell_type": "code",
   "execution_count": null,
   "metadata": {},
   "outputs": [],
   "source": []
  }
 ],
 "metadata": {
  "kernelspec": {
   "display_name": "Python 3",
   "language": "python",
   "name": "python3"
  },
  "language_info": {
   "codemirror_mode": {
    "name": "ipython",
    "version": 3
   },
   "file_extension": ".py",
   "mimetype": "text/x-python",
   "name": "python",
   "nbconvert_exporter": "python",
   "pygments_lexer": "ipython3",
   "version": "3.8.5"
  }
 },
 "nbformat": 4,
 "nbformat_minor": 4
}
