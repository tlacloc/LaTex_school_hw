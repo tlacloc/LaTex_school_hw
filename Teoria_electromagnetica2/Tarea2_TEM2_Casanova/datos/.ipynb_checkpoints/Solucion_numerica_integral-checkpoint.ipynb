{
 "cells": [
  {
   "cell_type": "markdown",
   "metadata": {},
   "source": [
    "# Instrucciones\n",
    "El objetivo de este ejercicio es resolver de manera numérica la siguiente integral\n",
    "\n",
    "\\\\[\\vec{F}_{C'\\rightarrow C}= \\frac{\\mu_0}{4\\pi}\\int_0^{2\\pi}\\int_0^{2\\pi} a \\left(-\\sin\\varphi\\hat{i} + a\\cos\\varphi\\hat{j}\\right)\\text{d}\\varphi' \\times \\left[ a \\left(-\\sin\\varphi'\\hat{i} + a\\cos\\varphi'\\hat{j}\\right)\\text{d}\\varphi'\\times \\frac{(\\vec{r} - \\vec{r}')}{|\\vec{r} - \\vec{r}'|^3}\\right]\\\\]\n",
    "\n",
    "Donde $\\vec{r} - \\vec{r'}$ esta dado por\n",
    "\n",
    "\\\\[\\vec{r} - \\vec{r'}=a(\\cos\\varphi-\\cos\\varphi')\\hat{i} + a(\\sin\\varphi-\\sin\\varphi')\\hat{j} + d\\hat{k}\\\\]\n",
    "\n",
    "Y entonces $|\\vec{r} - \\vec{r}'|$ queda de la siguiente forma\n",
    "\n",
    "\\\\[|\\vec{r} - \\vec{r}'| = \\sqrt{a^2(\\cos\\varphi-\\cos\\varphi')^2 + a^2(\\sin\\varphi-\\sin\\varphi')^2 + d^2}\\\\]\n",
    "\n",
    "Dicha integral se trabajo con el fin de hacerla más fácil expresar en el programa, de modo que se separó en tres integrales, las cuales son:\n",
    "\n",
    "\\\\[A_1 = \\frac{\\mu_0a^2}{4\\pi}\\int_0^{2\\pi}\\int_0^{2\\pi}\\frac{ - a\\cos\\varphi\\left[\\cos{(\\varphi-\\varphi')}-1\\right]\\hat{i} }{\\left(a^2(\\cos\\varphi-\\cos\\varphi')^2 + a^2(\\sin\\varphi-\\sin\\varphi')^2 + d^2\\right)^{3/2}}\\text{d}{\\varphi}\\text{d}{\\varphi'}\\\\]\n",
    "\n",
    "\\\\[A_2 = \\frac{\\mu_0a^2}{4\\pi}\\int_0^{2\\pi}\\int_0^{2\\pi}\\frac{ - a\\sin\\varphi\\left[\\cos{(\\varphi-\\varphi')}-1\\right]\\hat{j} }{\\left(a^2(\\cos\\varphi-\\cos\\varphi')^2 + a^2(\\sin\\varphi-\\sin\\varphi')^2 + d^2\\right)^{3/2}}\\text{d}{\\varphi}\\text{d}{\\varphi'}\\\\]\n",
    "\n",
    "\\\\[A_3 = \\frac{\\mu_0a^2}{4\\pi}\\int_0^{2\\pi}\\int_0^{2\\pi}\\frac{ - d\\cos{(\\varphi - \\varphi')}\\hat{k}  }{\\left(a^2(\\cos\\varphi-\\cos\\varphi')^2 + a^2(\\sin\\varphi-\\sin\\varphi')^2 + d^2\\right)^{3/2}}\\text{d}{\\varphi}\\text{d}{\\varphi'}\\\\]"
   ]
  },
  {
   "cell_type": "markdown",
   "metadata": {},
   "source": [
    "# Cargando librerías"
   ]
  },
  {
   "cell_type": "code",
   "execution_count": 1,
   "metadata": {},
   "outputs": [],
   "source": [
    "import sys\n",
    "sys.path.append('numeric_integration')\n",
    "from numeric_integration.integration import Integrate\n",
    "from numpy import sin, cos, pi"
   ]
  },
  {
   "cell_type": "markdown",
   "metadata": {},
   "source": [
    "# Definiendo la función"
   ]
  },
  {
   "cell_type": "code",
   "execution_count": 2,
   "metadata": {},
   "outputs": [],
   "source": [
    "def test(x, y):\n",
    "    return sin(x)*sin(y)"
   ]
  },
  {
   "cell_type": "code",
   "execution_count": 3,
   "metadata": {},
   "outputs": [],
   "source": [
    "# definiendo el valor de las constantes de la integral:\n",
    "\n",
    "a = 1\n",
    "d = 1"
   ]
  },
  {
   "cell_type": "code",
   "execution_count": 4,
   "metadata": {},
   "outputs": [],
   "source": [
    "def A1(x, y):\n",
    "    return (a*cos(x)*(cos(x-y)-1))/(((a**2)*(cos(x)-cos(y))**2 + (a**2)*(sin(x)-sin(y))**2 + d**2)**(3/2))"
   ]
  },
  {
   "cell_type": "code",
   "execution_count": 5,
   "metadata": {},
   "outputs": [],
   "source": [
    "def A2(x, y):\n",
    "    return -(a * sin(x)*(cos(x-y)-1))/(((a**2)*(cos(x)-cos(y))**2 + (a**2)*(sin(x)-sin(y))**2 + d**2)**(3/2))"
   ]
  },
  {
   "cell_type": "code",
   "execution_count": 6,
   "metadata": {},
   "outputs": [],
   "source": [
    "def A3(x, y):\n",
    "    return -(d*cos(x-y))/(((a**2)*(cos(x)-cos(y))**2 + (a**2)*(sin(x)-sin(y))**2 + d**2)**(3/2))"
   ]
  },
  {
   "cell_type": "markdown",
   "metadata": {},
   "source": [
    "# Definiendo límites"
   ]
  },
  {
   "cell_type": "code",
   "execution_count": 7,
   "metadata": {},
   "outputs": [],
   "source": [
    "def bounds_x():\n",
    "    return [0, 2*pi]"
   ]
  },
  {
   "cell_type": "code",
   "execution_count": 8,
   "metadata": {},
   "outputs": [],
   "source": [
    "def bounds_y():\n",
    "    return [0, 2*pi]"
   ]
  },
  {
   "cell_type": "markdown",
   "metadata": {},
   "source": [
    "# Resultado"
   ]
  },
  {
   "cell_type": "markdown",
   "metadata": {},
   "source": [
    "## A1"
   ]
  },
  {
   "cell_type": "code",
   "execution_count": 9,
   "metadata": {},
   "outputs": [
    {
     "name": "stderr",
     "output_type": "stream",
     "text": [
      "100%|██████████| 17/17 [00:00<00:00, 298.34it/s]"
     ]
    },
    {
     "name": "stdout",
     "output_type": "stream",
     "text": [
      "The result is 3.5475095083725705e-16\n"
     ]
    },
    {
     "name": "stderr",
     "output_type": "stream",
     "text": [
      "\n"
     ]
    }
   ],
   "source": [
    "# Build an Integrate object\n",
    "integral = Integrate(A1)\n",
    "\n",
    "# Calculate the integral\n",
    "A1_result = integral.double_integral([[0, 2*pi], [0, 2*pi]], precision=3)\n",
    "\n",
    "# Show the result and the accuracy\n",
    "print(\"The result is\", A1_result)"
   ]
  },
  {
   "cell_type": "markdown",
   "metadata": {},
   "source": [
    "## A2"
   ]
  },
  {
   "cell_type": "code",
   "execution_count": 10,
   "metadata": {},
   "outputs": [
    {
     "name": "stderr",
     "output_type": "stream",
     "text": [
      "100%|██████████| 17/17 [00:00<00:00, 524.72it/s]"
     ]
    },
    {
     "name": "stdout",
     "output_type": "stream",
     "text": [
      "The result is 7.986233202528226e-16\n"
     ]
    },
    {
     "name": "stderr",
     "output_type": "stream",
     "text": [
      "\n"
     ]
    }
   ],
   "source": [
    "# Build an Integrate object\n",
    "integral = Integrate(A2)\n",
    "\n",
    "# Calculate the integral\n",
    "A2_result = integral.double_integral([[0, 2*pi], [0, 2*pi]], precision=3)\n",
    "\n",
    "# Show the result and the accuracy\n",
    "print(\"The result is\", A2_result)"
   ]
  },
  {
   "cell_type": "markdown",
   "metadata": {},
   "source": [
    "## A2"
   ]
  },
  {
   "cell_type": "code",
   "execution_count": 11,
   "metadata": {},
   "outputs": [
    {
     "name": "stderr",
     "output_type": "stream",
     "text": [
      "100%|██████████| 17/17 [00:00<00:00, 469.36it/s]"
     ]
    },
    {
     "name": "stdout",
     "output_type": "stream",
     "text": [
      "The result is -7.183669747503602\n"
     ]
    },
    {
     "name": "stderr",
     "output_type": "stream",
     "text": [
      "\n"
     ]
    }
   ],
   "source": [
    "# Build an Integrate object\n",
    "integral = Integrate(A3)\n",
    "\n",
    "# Calculate the integral\n",
    "A3_result = integral.double_integral([[0, 2*pi], [0, 2*pi]], precision=3)\n",
    "\n",
    "# Show the result and the accuracy\n",
    "print(\"The result is\", A3_result)"
   ]
  },
  {
   "cell_type": "code",
   "execution_count": null,
   "metadata": {},
   "outputs": [],
   "source": []
  }
 ],
 "metadata": {
  "kernelspec": {
   "display_name": "Python 3",
   "language": "python",
   "name": "python3"
  },
  "language_info": {
   "codemirror_mode": {
    "name": "ipython",
    "version": 3
   },
   "file_extension": ".py",
   "mimetype": "text/x-python",
   "name": "python",
   "nbconvert_exporter": "python",
   "pygments_lexer": "ipython3",
   "version": "3.8.5"
  }
 },
 "nbformat": 4,
 "nbformat_minor": 4
}
