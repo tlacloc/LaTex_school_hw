{
 "cells": [
  {
   "cell_type": "markdown",
   "metadata": {},
   "source": [
    "# Instrucciones\n",
    "El objetivo de este ejercicio es resolver de manera numérica la siguiente integral\n",
    "\n",
    "\\\\[\\vec{F}_{C'\\rightarrow C}= \\frac{\\mu_0}{4\\pi}\\int_0^{2\\pi}\\int_0^{2\\pi} a \\left(-\\sin\\varphi\\hat{i} + a\\cos\\varphi\\hat{j}\\right)\\text{d}\\varphi' \\times \\left[ a \\left(-\\sin\\varphi'\\hat{i} + a\\cos\\varphi'\\hat{j}\\right)\\text{d}\\varphi'\\times \\frac{(\\vec{r} - \\vec{r}')}{|\\vec{r} - \\vec{r}'|^3}\\right]\\\\]\n",
    "\n",
    "Donde $\\vec{r} - \\vec{r'}$ esta dado por\n",
    "\n",
    "\\\\[\\vec{r} - \\vec{r'}=a(\\cos\\varphi-\\cos\\varphi')\\hat{i} + a(\\sin\\varphi-\\sin\\varphi')\\hat{j} + d\\hat{k}\\\\]\n",
    "\n",
    "Y entonces $|\\vec{r} - \\vec{r}'|$ queda de la siguiente forma\n",
    "\n",
    "\\\\[|\\vec{r} - \\vec{r}'| = \\sqrt{a^2(\\cos\\varphi-\\cos\\varphi')^2 + a^2(\\sin\\varphi-\\sin\\varphi')^2 + d^2}\\\\]\n",
    "\n",
    "Dicha integral se trabajo con el fin de hacerla más fácil expresar en el programa, de modo que se separó en tres integrales, las cuales son:\n",
    "\n",
    "\\\\[A_1 = \\frac{\\mu_0a^2}{4\\pi}\\int_0^{2\\pi}\\int_0^{2\\pi}\\frac{ - a\\cos\\varphi\\left[\\cos{(\\varphi-\\varphi')}-1\\right]\\hat{i} }{\\left(a^2(\\cos\\varphi-\\cos\\varphi')^2 + a^2(\\sin\\varphi-\\sin\\varphi')^2 + d^2\\right)^{3/2}}\\text{d}{\\varphi}\\text{d}{\\varphi'}\\\\]\n",
    "\n",
    "\\\\[A_2 = \\frac{\\mu_0a^2}{4\\pi}\\int_0^{2\\pi}\\int_0^{2\\pi}\\frac{ - a\\sin\\varphi\\left[\\cos{(\\varphi-\\varphi')}-1\\right]\\hat{j} }{\\left(a^2(\\cos\\varphi-\\cos\\varphi')^2 + a^2(\\sin\\varphi-\\sin\\varphi')^2 + d^2\\right)^{3/2}}\\text{d}{\\varphi}\\text{d}{\\varphi'}\\\\]\n",
    "\n",
    "\\\\[A_3 = \\frac{\\mu_0a^2}{4\\pi}\\int_0^{2\\pi}\\int_0^{2\\pi}\\frac{ - d\\cos{(\\varphi - \\varphi')}\\hat{k}  }{\\left(a^2(\\cos\\varphi-\\cos\\varphi')^2 + a^2(\\sin\\varphi-\\sin\\varphi')^2 + d^2\\right)^{3/2}}\\text{d}{\\varphi}\\text{d}{\\varphi'}\\\\]"
   ]
  },
  {
   "cell_type": "markdown",
   "metadata": {},
   "source": [
    "# Cargando librerías"
   ]
  },
  {
   "cell_type": "code",
   "execution_count": 13,
   "metadata": {},
   "outputs": [],
   "source": [
    "import sys\n",
    "sys.path.append('numeric_integration')\n",
    "from numeric_integration.integration import Integrate\n",
    "from numpy import sin, cos, pi"
   ]
  },
  {
   "cell_type": "markdown",
   "metadata": {},
   "source": [
    "# Definiendo la función"
   ]
  },
  {
   "cell_type": "code",
   "execution_count": 16,
   "metadata": {},
   "outputs": [],
   "source": [
    "def test(x, y):\n",
    "    return sin(x)*sin(y)"
   ]
  },
  {
   "cell_type": "code",
   "execution_count": 20,
   "metadata": {},
   "outputs": [],
   "source": [
    "def A1(x, y):\n",
    "    return (cos(x)*(cos(x-y)-1))/(((cos(x)-cos(y))**2 + (sin(x)-sin(y))**2 + 1)**(3/2))"
   ]
  },
  {
   "cell_type": "code",
   "execution_count": 22,
   "metadata": {},
   "outputs": [],
   "source": [
    "def A2(x, y):\n",
    "    return -(a * sin(x)*(cos(x-y)-1))/(((a**2)*(cos(x)-cos(y))**2 + (a**2)*(sin(x)-sin(y))**2 + d^2)**(3/2))"
   ]
  },
  {
   "cell_type": "code",
   "execution_count": 23,
   "metadata": {},
   "outputs": [],
   "source": [
    "def A3(x, y):\n",
    "    return -(d*cos(x-y))/(((a**2)*(cos(x)-cos(y))**2 + (a**2)*(sin(x)-sin(y))**2 + d^2)**(3/2))"
   ]
  },
  {
   "cell_type": "markdown",
   "metadata": {},
   "source": [
    "# Definiendo límites"
   ]
  },
  {
   "cell_type": "code",
   "execution_count": 5,
   "metadata": {},
   "outputs": [],
   "source": [
    "def bounds_x():\n",
    "    return [0, 2*pi]"
   ]
  },
  {
   "cell_type": "code",
   "execution_count": 6,
   "metadata": {},
   "outputs": [],
   "source": [
    "def bounds_y():\n",
    "    return [0, 2*pi]"
   ]
  },
  {
   "cell_type": "markdown",
   "metadata": {},
   "source": [
    "# Resultado"
   ]
  },
  {
   "cell_type": "code",
   "execution_count": 25,
   "metadata": {},
   "outputs": [
    {
     "name": "stderr",
     "output_type": "stream",
     "text": [
      "100%|██████████| 17/17 [00:00<00:00, 685.24it/s]"
     ]
    },
    {
     "name": "stdout",
     "output_type": "stream",
     "text": [
      "The result is 3.5475095083725705e-16\n",
      "\n",
      "The accuracy of this result is 0.0\n"
     ]
    },
    {
     "name": "stderr",
     "output_type": "stream",
     "text": [
      "\n"
     ]
    }
   ],
   "source": [
    "# Build an Integrate object\n",
    "integral = Integrate(A1)\n",
    "\n",
    "# Calculate the integral\n",
    "result = integral.double_integral([[0, 2*pi], [0, 2*pi]], precision=3)\n",
    "\n",
    "# Show the result and the accuracy\n",
    "print(\"The result is\", result)\n",
    "\n",
    "# Calculate the error range\n",
    "print(\"\\nThe accuracy of this result is\", integral.error)"
   ]
  },
  {
   "cell_type": "code",
   "execution_count": 26,
   "metadata": {},
   "outputs": [
    {
     "name": "stderr",
     "output_type": "stream",
     "text": [
      "  0%|          | 0/17 [00:00<?, ?it/s]\n"
     ]
    },
    {
     "ename": "NameError",
     "evalue": "name 'a' is not defined",
     "output_type": "error",
     "traceback": [
      "\u001b[0;31m---------------------------------------------------------------------------\u001b[0m",
      "\u001b[0;31mNameError\u001b[0m                                 Traceback (most recent call last)",
      "\u001b[0;32m<ipython-input-26-bfca16dc0383>\u001b[0m in \u001b[0;36m<module>\u001b[0;34m\u001b[0m\n\u001b[1;32m      3\u001b[0m \u001b[0;34m\u001b[0m\u001b[0m\n\u001b[1;32m      4\u001b[0m \u001b[0;31m# Calculate the integral\u001b[0m\u001b[0;34m\u001b[0m\u001b[0;34m\u001b[0m\u001b[0;34m\u001b[0m\u001b[0m\n\u001b[0;32m----> 5\u001b[0;31m \u001b[0mresult\u001b[0m \u001b[0;34m=\u001b[0m \u001b[0mintegral\u001b[0m\u001b[0;34m.\u001b[0m\u001b[0mdouble_integral\u001b[0m\u001b[0;34m(\u001b[0m\u001b[0;34m[\u001b[0m\u001b[0;34m[\u001b[0m\u001b[0;36m0\u001b[0m\u001b[0;34m,\u001b[0m \u001b[0;36m2\u001b[0m\u001b[0;34m*\u001b[0m\u001b[0mpi\u001b[0m\u001b[0;34m]\u001b[0m\u001b[0;34m,\u001b[0m \u001b[0;34m[\u001b[0m\u001b[0;36m0\u001b[0m\u001b[0;34m,\u001b[0m \u001b[0;36m2\u001b[0m\u001b[0;34m*\u001b[0m\u001b[0mpi\u001b[0m\u001b[0;34m]\u001b[0m\u001b[0;34m]\u001b[0m\u001b[0;34m,\u001b[0m \u001b[0mprecision\u001b[0m\u001b[0;34m=\u001b[0m\u001b[0;36m3\u001b[0m\u001b[0;34m)\u001b[0m\u001b[0;34m\u001b[0m\u001b[0;34m\u001b[0m\u001b[0m\n\u001b[0m\u001b[1;32m      6\u001b[0m \u001b[0;34m\u001b[0m\u001b[0m\n\u001b[1;32m      7\u001b[0m \u001b[0;31m# Show the result and the accuracy\u001b[0m\u001b[0;34m\u001b[0m\u001b[0;34m\u001b[0m\u001b[0;34m\u001b[0m\u001b[0m\n",
      "\u001b[0;32m~/Documents/GitHub/LaTex_school_hw/Teoria_electromagnetica2/Tarea2_TEM2_Casanova/datos/numeric_integration/integration.py\u001b[0m in \u001b[0;36mdouble_integral\u001b[0;34m(self, limit_list, precision)\u001b[0m\n\u001b[1;32m     66\u001b[0m                 \u001b[0mdelta\u001b[0m \u001b[0;34m=\u001b[0m \u001b[0mdelta_x\u001b[0m \u001b[0;34m*\u001b[0m \u001b[0mdelta_y\u001b[0m\u001b[0;34m\u001b[0m\u001b[0;34m\u001b[0m\u001b[0m\n\u001b[1;32m     67\u001b[0m                 \u001b[0;32mtry\u001b[0m\u001b[0;34m:\u001b[0m\u001b[0;34m\u001b[0m\u001b[0;34m\u001b[0m\u001b[0m\n\u001b[0;32m---> 68\u001b[0;31m                     \u001b[0mf1\u001b[0m \u001b[0;34m=\u001b[0m \u001b[0mself\u001b[0m\u001b[0;34m.\u001b[0m\u001b[0mfunction\u001b[0m\u001b[0;34m(\u001b[0m\u001b[0mxs\u001b[0m\u001b[0;34m[\u001b[0m\u001b[0mi\u001b[0m\u001b[0;34m]\u001b[0m\u001b[0;34m,\u001b[0m \u001b[0mys\u001b[0m\u001b[0;34m[\u001b[0m\u001b[0mj\u001b[0m\u001b[0;34m]\u001b[0m\u001b[0;34m)\u001b[0m\u001b[0;34m\u001b[0m\u001b[0;34m\u001b[0m\u001b[0m\n\u001b[0m\u001b[1;32m     69\u001b[0m                     \u001b[0msub_area\u001b[0m \u001b[0;34m=\u001b[0m \u001b[0mf1\u001b[0m \u001b[0;34m*\u001b[0m \u001b[0mdelta\u001b[0m\u001b[0;34m\u001b[0m\u001b[0;34m\u001b[0m\u001b[0m\n\u001b[1;32m     70\u001b[0m                     \u001b[0mf2\u001b[0m \u001b[0;34m=\u001b[0m \u001b[0mself\u001b[0m\u001b[0;34m.\u001b[0m\u001b[0mfunction\u001b[0m\u001b[0;34m(\u001b[0m\u001b[0mxs\u001b[0m\u001b[0;34m[\u001b[0m\u001b[0mi\u001b[0m \u001b[0;34m+\u001b[0m \u001b[0;36m1\u001b[0m\u001b[0;34m]\u001b[0m\u001b[0;34m,\u001b[0m \u001b[0mys\u001b[0m\u001b[0;34m[\u001b[0m\u001b[0mj\u001b[0m \u001b[0;34m+\u001b[0m \u001b[0;36m1\u001b[0m\u001b[0;34m]\u001b[0m\u001b[0;34m)\u001b[0m\u001b[0;34m\u001b[0m\u001b[0;34m\u001b[0m\u001b[0m\n",
      "\u001b[0;32m<ipython-input-22-ed0fc77359c3>\u001b[0m in \u001b[0;36mA2\u001b[0;34m(x, y)\u001b[0m\n\u001b[1;32m      1\u001b[0m \u001b[0;32mdef\u001b[0m \u001b[0mA2\u001b[0m\u001b[0;34m(\u001b[0m\u001b[0mx\u001b[0m\u001b[0;34m,\u001b[0m \u001b[0my\u001b[0m\u001b[0;34m)\u001b[0m\u001b[0;34m:\u001b[0m\u001b[0;34m\u001b[0m\u001b[0;34m\u001b[0m\u001b[0m\n\u001b[0;32m----> 2\u001b[0;31m     \u001b[0;32mreturn\u001b[0m \u001b[0;34m-\u001b[0m\u001b[0;34m(\u001b[0m\u001b[0ma\u001b[0m \u001b[0;34m*\u001b[0m \u001b[0msin\u001b[0m\u001b[0;34m(\u001b[0m\u001b[0mx\u001b[0m\u001b[0;34m)\u001b[0m\u001b[0;34m*\u001b[0m\u001b[0;34m(\u001b[0m\u001b[0mcos\u001b[0m\u001b[0;34m(\u001b[0m\u001b[0mx\u001b[0m\u001b[0;34m-\u001b[0m\u001b[0my\u001b[0m\u001b[0;34m)\u001b[0m\u001b[0;34m-\u001b[0m\u001b[0;36m1\u001b[0m\u001b[0;34m)\u001b[0m\u001b[0;34m)\u001b[0m\u001b[0;34m/\u001b[0m\u001b[0;34m(\u001b[0m\u001b[0;34m(\u001b[0m\u001b[0;34m(\u001b[0m\u001b[0ma\u001b[0m\u001b[0;34m**\u001b[0m\u001b[0;36m2\u001b[0m\u001b[0;34m)\u001b[0m\u001b[0;34m*\u001b[0m\u001b[0;34m(\u001b[0m\u001b[0mcos\u001b[0m\u001b[0;34m(\u001b[0m\u001b[0mx\u001b[0m\u001b[0;34m)\u001b[0m\u001b[0;34m-\u001b[0m\u001b[0mcos\u001b[0m\u001b[0;34m(\u001b[0m\u001b[0my\u001b[0m\u001b[0;34m)\u001b[0m\u001b[0;34m)\u001b[0m\u001b[0;34m**\u001b[0m\u001b[0;36m2\u001b[0m \u001b[0;34m+\u001b[0m \u001b[0;34m(\u001b[0m\u001b[0ma\u001b[0m\u001b[0;34m**\u001b[0m\u001b[0;36m2\u001b[0m\u001b[0;34m)\u001b[0m\u001b[0;34m*\u001b[0m\u001b[0;34m(\u001b[0m\u001b[0msin\u001b[0m\u001b[0;34m(\u001b[0m\u001b[0mx\u001b[0m\u001b[0;34m)\u001b[0m\u001b[0;34m-\u001b[0m\u001b[0msin\u001b[0m\u001b[0;34m(\u001b[0m\u001b[0my\u001b[0m\u001b[0;34m)\u001b[0m\u001b[0;34m)\u001b[0m\u001b[0;34m**\u001b[0m\u001b[0;36m2\u001b[0m \u001b[0;34m+\u001b[0m \u001b[0md\u001b[0m\u001b[0;34m^\u001b[0m\u001b[0;36m2\u001b[0m\u001b[0;34m)\u001b[0m\u001b[0;34m**\u001b[0m\u001b[0;34m(\u001b[0m\u001b[0;36m3\u001b[0m\u001b[0;34m/\u001b[0m\u001b[0;36m2\u001b[0m\u001b[0;34m)\u001b[0m\u001b[0;34m)\u001b[0m\u001b[0;34m\u001b[0m\u001b[0;34m\u001b[0m\u001b[0m\n\u001b[0m",
      "\u001b[0;31mNameError\u001b[0m: name 'a' is not defined"
     ]
    }
   ],
   "source": [
    "# Build an Integrate object\n",
    "integral = Integrate(A2)\n",
    "\n",
    "# Calculate the integral\n",
    "result = integral.double_integral([[0, 2*pi], [0, 2*pi]], precision=3)\n",
    "\n",
    "# Show the result and the accuracy\n",
    "print(\"The result is\", result)\n",
    "\n",
    "# Calculate the error range\n",
    "print(\"\\nThe accuracy of this result is\", integral.error)"
   ]
  },
  {
   "cell_type": "code",
   "execution_count": null,
   "metadata": {},
   "outputs": [],
   "source": []
  }
 ],
 "metadata": {
  "kernelspec": {
   "display_name": "Python 3",
   "language": "python",
   "name": "python3"
  },
  "language_info": {
   "codemirror_mode": {
    "name": "ipython",
    "version": 3
   },
   "file_extension": ".py",
   "mimetype": "text/x-python",
   "name": "python",
   "nbconvert_exporter": "python",
   "pygments_lexer": "ipython3",
   "version": "3.8.5"
  }
 },
 "nbformat": 4,
 "nbformat_minor": 4
}
