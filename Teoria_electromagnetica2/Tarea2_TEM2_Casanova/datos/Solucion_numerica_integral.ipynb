{
 "cells": [
  {
   "cell_type": "markdown",
   "metadata": {},
   "source": [
    "# Instrucciones\n",
    "El objetivo de este ejercicio es resolver de manera numérica la siguiente integral\n",
    "\n",
    "\\\\[\\vec{F}_{C'\\rightarrow C}= \\frac{\\mu_0}{4\\pi}\\int_0^{2\\pi}\\int_0^{2\\pi} a \\left(-\\sin\\varphi\\hat{i} + a\\cos\\varphi\\hat{j}\\right)\\text{d}\\varphi' \\times \\left[ a \\left(-\\sin\\varphi'\\hat{i} + a\\cos\\varphi'\\hat{j}\\right)\\text{d}\\varphi'\\times \\frac{(\\vec{r} - \\vec{r}')}{|\\vec{r} - \\vec{r}'|^3}\\right]\\\\]\n",
    "\n",
    "Donde $\\vec{r} - \\vec{r'}$ esta dado por\n",
    "\n",
    "\\\\[\\vec{r} - \\vec{r'}=a(\\cos\\varphi-\\cos\\varphi')\\hat{i} + a(\\sin\\varphi-\\sin\\varphi')\\hat{j} + d\\hat{k}\\\\]\n",
    "\n",
    "Y entonces $|\\vec{r} - \\vec{r}'|$ queda de la siguiente forma\n",
    "\n",
    "\\\\[|\\vec{r} - \\vec{r}'| = \\sqrt{a^2(\\cos\\varphi-\\cos\\varphi')^2 + a^2(\\sin\\varphi-\\sin\\varphi')^2 + d^2}\\\\]\n",
    "\n",
    "Dicha integral se trabajo con el fin de hacerla más fácil expresar en el programa, de modo que se separó en tres integrales, las cuales son:\n",
    "\n",
    "\\\\[A_1 = \\frac{\\mu_0a^2}{4\\pi}\\int_0^{2\\pi}\\int_0^{2\\pi}\\frac{ - a\\cos\\varphi\\left[\\cos{(\\varphi-\\varphi')}-1\\right]\\hat{i} }{\\left(a^2(\\cos\\varphi-\\cos\\varphi')^2 + a^2(\\sin\\varphi-\\sin\\varphi')^2 + d^2\\right)^{3/2}}\\text{d}{\\varphi}\\text{d}{\\varphi'}\\\\]\n",
    "\n",
    "\\\\[A_2 = \\frac{\\mu_0a^2}{4\\pi}\\int_0^{2\\pi}\\int_0^{2\\pi}\\frac{ - a\\sin\\varphi\\left[\\cos{(\\varphi-\\varphi')}-1\\right]\\hat{j} }{\\left(a^2(\\cos\\varphi-\\cos\\varphi')^2 + a^2(\\sin\\varphi-\\sin\\varphi')^2 + d^2\\right)^{3/2}}\\text{d}{\\varphi}\\text{d}{\\varphi'}\\\\]\n",
    "\n",
    "\\\\[A_3 = \\frac{\\mu_0a^2}{4\\pi}\\int_0^{2\\pi}\\int_0^{2\\pi}\\frac{ - d\\cos{(\\varphi - \\varphi')}\\hat{k}  }{\\left(a^2(\\cos\\varphi-\\cos\\varphi')^2 + a^2(\\sin\\varphi-\\sin\\varphi')^2 + d^2\\right)^{3/2}}\\text{d}{\\varphi}\\text{d}{\\varphi'}\\\\]"
   ]
  },
  {
   "cell_type": "markdown",
   "metadata": {},
   "source": [
    "# Cargando librerías"
   ]
  },
  {
   "cell_type": "code",
   "execution_count": 1,
   "metadata": {},
   "outputs": [],
   "source": [
    "import sys\n",
    "sys.path.append('numeric_integration')\n",
    "from numeric_integration.integration import Integrate\n",
    "from numpy import sin, cos, pi"
   ]
  },
  {
   "cell_type": "markdown",
   "metadata": {},
   "source": [
    "# Definiendo la función"
   ]
  },
  {
   "cell_type": "code",
   "execution_count": 2,
   "metadata": {},
   "outputs": [],
   "source": [
    "def test(x, y):\n",
    "    return sin(x)*sin(y)"
   ]
  },
  {
   "cell_type": "code",
   "execution_count": 3,
   "metadata": {},
   "outputs": [],
   "source": [
    "# definiendo el valor de las constantes de la integral:\n",
    "mu_0 = 1.25663706212*(10**(-6))\n",
    "a = 1\n",
    "d = 0.01"
   ]
  },
  {
   "cell_type": "code",
   "execution_count": 4,
   "metadata": {},
   "outputs": [],
   "source": [
    "def A1(x, y):\n",
    "    return -(a*cos(x)*(cos(x-y)-1))/(((a**2)*(cos(x)-cos(y))**2 + (a**2)*(sin(x)-sin(y))**2 + d**2)**(3/2))"
   ]
  },
  {
   "cell_type": "code",
   "execution_count": 5,
   "metadata": {},
   "outputs": [],
   "source": [
    "def A2(x, y):\n",
    "    return -(a * sin(x)*(cos(x-y)-1))/(((a**2)*(cos(x)-cos(y))**2 + (a**2)*(sin(x)-sin(y))**2 + d**2)**(3/2))"
   ]
  },
  {
   "cell_type": "code",
   "execution_count": 6,
   "metadata": {},
   "outputs": [],
   "source": [
    "def A3(x, y):\n",
    "    return -(d*cos(x-y))/(((a**2)*(cos(x)-cos(y))**2 + (a**2)*(sin(x)-sin(y))**2 + d**2)**(3/2))"
   ]
  },
  {
   "cell_type": "markdown",
   "metadata": {},
   "source": [
    "# Resultado"
   ]
  },
  {
   "cell_type": "markdown",
   "metadata": {},
   "source": [
    "## A1"
   ]
  },
  {
   "cell_type": "code",
   "execution_count": 7,
   "metadata": {},
   "outputs": [
    {
     "name": "stderr",
     "output_type": "stream",
     "text": [
      "100%|██████████| 17/17 [00:00<00:00, 272.28it/s]"
     ]
    },
    {
     "name": "stdout",
     "output_type": "stream",
     "text": [
      "The result is 3.608224830031759e-16\n"
     ]
    },
    {
     "name": "stderr",
     "output_type": "stream",
     "text": [
      "\n"
     ]
    }
   ],
   "source": [
    "# Build an Integrate object\n",
    "integral = Integrate(A1)\n",
    "\n",
    "# Calculate the integral\n",
    "A1_result = integral.double_integral([[0, 2*pi], [0, 2*pi]], precision=3)\n",
    "\n",
    "# Show the result\n",
    "print(\"The result is\", A1_result)"
   ]
  },
  {
   "cell_type": "markdown",
   "metadata": {},
   "source": [
    "## A2"
   ]
  },
  {
   "cell_type": "code",
   "execution_count": 8,
   "metadata": {},
   "outputs": [
    {
     "name": "stderr",
     "output_type": "stream",
     "text": [
      "100%|██████████| 17/17 [00:00<00:00, 554.45it/s]"
     ]
    },
    {
     "name": "stdout",
     "output_type": "stream",
     "text": [
      "The result is 1.0061396160665481e-15\n"
     ]
    },
    {
     "name": "stderr",
     "output_type": "stream",
     "text": [
      "\n"
     ]
    }
   ],
   "source": [
    "# Build an Integrate object\n",
    "integral = Integrate(A2)\n",
    "\n",
    "# Calculate the integral\n",
    "A2_result = integral.double_integral([[0, 2*pi], [0, 2*pi]], precision=3)\n",
    "\n",
    "# Show the result\n",
    "print(\"The result is\", A2_result)"
   ]
  },
  {
   "cell_type": "markdown",
   "metadata": {},
   "source": [
    "## A3"
   ]
  },
  {
   "cell_type": "code",
   "execution_count": 9,
   "metadata": {},
   "outputs": [
    {
     "name": "stderr",
     "output_type": "stream",
     "text": [
      "100%|██████████| 17/17 [00:00<00:00, 484.41it/s]"
     ]
    },
    {
     "name": "stdout",
     "output_type": "stream",
     "text": [
      "The result is -23223.561352371973\n"
     ]
    },
    {
     "name": "stderr",
     "output_type": "stream",
     "text": [
      "\n"
     ]
    }
   ],
   "source": [
    "# Build an Integrate object\n",
    "integral = Integrate(A3)\n",
    "\n",
    "# Calculate the integral\n",
    "A3_result = integral.double_integral([[0, 2*pi], [0, 2*pi]], precision=3)\n",
    "\n",
    "# Show the result\n",
    "print(\"The result is\", A3_result)"
   ]
  },
  {
   "cell_type": "markdown",
   "metadata": {},
   "source": [
    "## Suma de las integrales"
   ]
  },
  {
   "cell_type": "code",
   "execution_count": 11,
   "metadata": {},
   "outputs": [],
   "source": [
    "#componentes\n",
    "\n",
    "iv = ((mu_0*a**2)/(4*pi))*A1_result\n",
    "jv = ((mu_0*a**2)/(4*pi))*A2_result\n",
    "kv = ((mu_0*a**2)/(4*pi))*A3_result"
   ]
  },
  {
   "cell_type": "markdown",
   "metadata": {},
   "source": [
    "## Fuerza total"
   ]
  },
  {
   "cell_type": "code",
   "execution_count": 12,
   "metadata": {},
   "outputs": [
    {
     "name": "stdout",
     "output_type": "stream",
     "text": [
      "F = 3.608224831995989e-23 i + 1.0061396166142661e-22 j + -0.0023223561365014315 k\n"
     ]
    }
   ],
   "source": [
    "print('F =', iv , 'i +', jv , 'j +', kv , 'k'  )"
   ]
  },
  {
   "cell_type": "markdown",
   "metadata": {},
   "source": [
    "## Modulo de la fuerza"
   ]
  },
  {
   "cell_type": "code",
   "execution_count": 13,
   "metadata": {},
   "outputs": [
    {
     "name": "stdout",
     "output_type": "stream",
     "text": [
      "|F| = 5.393338024745855e-06\n"
     ]
    }
   ],
   "source": [
    "print('|F| =', iv**2 + jv**2 + kv**2)"
   ]
  },
  {
   "cell_type": "code",
   "execution_count": null,
   "metadata": {},
   "outputs": [],
   "source": []
  }
 ],
 "metadata": {
  "kernelspec": {
   "display_name": "Python 3",
   "language": "python",
   "name": "python3"
  },
  "language_info": {
   "codemirror_mode": {
    "name": "ipython",
    "version": 3
   },
   "file_extension": ".py",
   "mimetype": "text/x-python",
   "name": "python",
   "nbconvert_exporter": "python",
   "pygments_lexer": "ipython3",
   "version": "3.8.5"
  }
 },
 "nbformat": 4,
 "nbformat_minor": 4
}
