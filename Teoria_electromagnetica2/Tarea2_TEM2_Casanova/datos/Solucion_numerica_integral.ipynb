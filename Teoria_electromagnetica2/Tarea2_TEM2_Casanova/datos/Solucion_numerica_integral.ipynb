{
 "cells": [
  {
   "cell_type": "markdown",
   "metadata": {},
   "source": [
    "# Instrucciones\n",
    "El objetivo de este ejercicio es resolver de manera numérica la siguiente integral\n",
    "\n",
    "\\\\[\\vec{F}_{C'\\rightarrow C}= \\frac{\\mu_0}{4\\pi}\\int_0^{2\\pi}\\int_0^{2\\pi} a \\left(-\\sin\\varphi\\hat{i} + a\\cos\\varphi\\hat{j}\\right)\\text{d}\\varphi' \\times \\left[ a \\left(-\\sin\\varphi'\\hat{i} + a\\cos\\varphi'\\hat{j}\\right)\\text{d}\\varphi'\\times \\frac{(\\vec{r} - \\vec{r}')}{|\\vec{r} - \\vec{r}'|^3}\\right]\\\\]\n",
    "\n",
    "Donde $\\vec{r} - \\vec{r'}$ esta dado por\n",
    "\n",
    "\\\\[\\vec{r} - \\vec{r'}=a(\\cos\\varphi-\\cos\\varphi')\\hat{i} + a(\\sin\\varphi-\\sin\\varphi')\\hat{j} + d\\hat{k}\\\\]\n",
    "\n",
    "Y entonces $|\\vec{r} - \\vec{r}'|$ queda de la siguiente forma\n",
    "\n",
    "\\\\[|\\vec{r} - \\vec{r}'| = \\sqrt{a^2(\\cos\\varphi-\\cos\\varphi')^2 + a^2(\\sin\\varphi-\\sin\\varphi')^2 + d^2}\\\\]"
   ]
  },
  {
   "cell_type": "markdown",
   "metadata": {},
   "source": [
    "# Cargando librerías"
   ]
  },
  {
   "cell_type": "code",
   "execution_count": 11,
   "metadata": {},
   "outputs": [],
   "source": [
    "from math import cos, exp, pi, sin\n",
    "from scipy.integrate import quad"
   ]
  },
  {
   "cell_type": "markdown",
   "metadata": {},
   "source": [
    "# Definiendo la función"
   ]
  },
  {
   "cell_type": "code",
   "execution_count": 12,
   "metadata": {},
   "outputs": [],
   "source": [
    "# function we want to integrate\n",
    "def f(x):\n",
    "    return exp(cos(-2 * x * pi)) + 3.2"
   ]
  },
  {
   "cell_type": "markdown",
   "metadata": {},
   "source": [
    "# Definiendo límites"
   ]
  },
  {
   "cell_type": "code",
   "execution_count": 13,
   "metadata": {},
   "outputs": [],
   "source": [
    "# call quad to integrate f from -2 to 2\n",
    "res, err = quad(f, 0, 2*pi)"
   ]
  },
  {
   "cell_type": "markdown",
   "metadata": {},
   "source": [
    "# Resultado"
   ]
  },
  {
   "cell_type": "code",
   "execution_count": 14,
   "metadata": {},
   "outputs": [
    {
     "name": "stdout",
     "output_type": "stream",
     "text": [
      "The numerical result is 28.226630 (+-7.07391e-08)\n"
     ]
    }
   ],
   "source": [
    "print(\"The numerical result is {:f} (+-{:g})\"\n",
    "    .format(res, err))"
   ]
  },
  {
   "cell_type": "code",
   "execution_count": null,
   "metadata": {},
   "outputs": [],
   "source": []
  }
 ],
 "metadata": {
  "kernelspec": {
   "display_name": "Python 3",
   "language": "python",
   "name": "python3"
  },
  "language_info": {
   "codemirror_mode": {
    "name": "ipython",
    "version": 3
   },
   "file_extension": ".py",
   "mimetype": "text/x-python",
   "name": "python",
   "nbconvert_exporter": "python",
   "pygments_lexer": "ipython3",
   "version": "3.8.5"
  }
 },
 "nbformat": 4,
 "nbformat_minor": 4
}
